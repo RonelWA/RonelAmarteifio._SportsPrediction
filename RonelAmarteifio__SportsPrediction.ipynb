{
  "cells": [
    {
      "cell_type": "markdown",
      "metadata": {
        "id": "PP-obPrR_l_n"
      },
      "source": [
        "FIFA Player Data Analysis and Modeling\n"
      ]
    },
    {
      "cell_type": "markdown",
      "metadata": {
        "id": "NI3XA6fM_l_p"
      },
      "source": [
        "Data Preprocessing"
      ]
    },
    {
      "cell_type": "code",
      "execution_count": 6,
      "metadata": {
        "id": "-kFVVaK-_l_p"
      },
      "outputs": [],
      "source": [
        "import pandas as pd\n",
        "import numpy as np\n",
        "from sklearn.preprocessing import LabelEncoder, StandardScaler\n",
        "from sklearn.ensemble import RandomForestClassifier, RandomForestRegressor, GradientBoostingRegressor\n",
        "from sklearn.model_selection import train_test_split, GridSearchCV, cross_val_score, KFold\n",
        "from sklearn.metrics import mean_squared_error, mean_absolute_error, make_scorer\n",
        "import xgboost as xgb\n",
        "import pickle\n",
        "import joblib"
      ]
    },
    {
      "cell_type": "code",
      "source": [
        "from google.colab import drive\n",
        "drive.mount('/content/drive')"
      ],
      "metadata": {
        "colab": {
          "base_uri": "https://localhost:8080/"
        },
        "id": "Ob__JfHG_vWx",
        "outputId": "a591c606-3c8d-49f7-bf8e-69760e9020c3"
      },
      "execution_count": 7,
      "outputs": [
        {
          "output_type": "stream",
          "name": "stdout",
          "text": [
            "Drive already mounted at /content/drive; to attempt to forcibly remount, call drive.mount(\"/content/drive\", force_remount=True).\n"
          ]
        }
      ]
    },
    {
      "cell_type": "code",
      "execution_count": 8,
      "metadata": {
        "colab": {
          "base_uri": "https://localhost:8080/"
        },
        "id": "7u0W4aVh_l_q",
        "outputId": "01ba4267-eafa-4613-cae5-377ce6f33706"
      },
      "outputs": [
        {
          "output_type": "stream",
          "name": "stderr",
          "text": [
            "<ipython-input-8-38e34e63f3aa>:2: DtypeWarning: Columns (108) have mixed types. Specify dtype option on import or set low_memory=False.\n",
            "  legacy_df = pd.read_csv('/content/drive/My Drive/Colab Notebooks/male_players (legacy).csv')\n"
          ]
        },
        {
          "output_type": "stream",
          "name": "stdout",
          "text": [
            "   player_id                                        player_url  fifa_version  \\\n",
            "0     158023                /player/158023/lionel-messi/150002            15   \n",
            "1      20801  /player/20801/c-ronaldo-dos-santos-aveiro/150002            15   \n",
            "2       9014                  /player/9014/arjen-robben/150002            15   \n",
            "3      41236           /player/41236/zlatan-ibrahimovic/150002            15   \n",
            "4     167495                /player/167495/manuel-neuer/150002            15   \n",
            "\n",
            "   fifa_update fifa_update_date         short_name  \\\n",
            "0            2       2014-09-18           L. Messi   \n",
            "1            2       2014-09-18  Cristiano Ronaldo   \n",
            "2            2       2014-09-18          A. Robben   \n",
            "3            2       2014-09-18     Z. Ibrahimović   \n",
            "4            2       2014-09-18           M. Neuer   \n",
            "\n",
            "                             long_name player_positions  overall  potential  \\\n",
            "0       Lionel Andrés Messi Cuccittini               CF       93         95   \n",
            "1  Cristiano Ronaldo dos Santos Aveiro           LW, LM       92         92   \n",
            "2                         Arjen Robben       RM, LM, RW       90         90   \n",
            "3                   Zlatan Ibrahimović               ST       90         90   \n",
            "4                   Manuel Peter Neuer               GK       90         90   \n",
            "\n",
            "   ...   cdm   rdm   rwb    lb   lcb    cb   rcb    rb    gk  \\\n",
            "0  ...  62+3  62+3  62+3  54+3  45+3  45+3  45+3  54+3  15+3   \n",
            "1  ...  63+3  63+3  63+3  57+3  52+3  52+3  52+3  57+3  16+3   \n",
            "2  ...  64+3  64+3  64+3  55+3  46+3  46+3  46+3  55+3  14+3   \n",
            "3  ...  65+3  65+3  61+3  56+3  55+3  55+3  55+3  56+3  17+3   \n",
            "4  ...  40+3  40+3  36+3  36+3  38+3  38+3  38+3  36+3  87+3   \n",
            "\n",
            "                                     player_face_url  \n",
            "0  https://cdn.sofifa.net/players/158/023/15_120.png  \n",
            "1  https://cdn.sofifa.net/players/020/801/15_120.png  \n",
            "2  https://cdn.sofifa.net/players/009/014/15_120.png  \n",
            "3  https://cdn.sofifa.net/players/041/236/15_120.png  \n",
            "4  https://cdn.sofifa.net/players/167/495/15_120.png  \n",
            "\n",
            "[5 rows x 110 columns]\n",
            "           player_id   fifa_version  fifa_update        overall  \\\n",
            "count  161583.000000  161583.000000     161583.0  161583.000000   \n",
            "mean   214484.722353      19.125514          2.0      65.699071   \n",
            "std     34928.608856       2.559318          0.0       7.040855   \n",
            "min         2.000000      15.000000          2.0      40.000000   \n",
            "25%    199159.000000      17.000000          2.0      61.000000   \n",
            "50%    220621.000000      19.000000          2.0      66.000000   \n",
            "75%    236958.000000      21.000000          2.0      70.000000   \n",
            "max    271817.000000      23.000000          2.0      94.000000   \n",
            "\n",
            "           potential     value_eur       wage_eur            age  \\\n",
            "count  161583.000000  1.595300e+05  159822.000000  161583.000000   \n",
            "mean       70.744008  2.326770e+06   10855.409768      25.123181   \n",
            "std         6.259121  6.005746e+06   21941.656285       4.670207   \n",
            "min        40.000000  1.000000e+03     500.000000      16.000000   \n",
            "25%        66.000000  3.250000e+05    2000.000000      21.000000   \n",
            "50%        70.000000  7.250000e+05    4000.000000      25.000000   \n",
            "75%        75.000000  1.800000e+06   10000.000000      28.000000   \n",
            "max        95.000000  1.940000e+08  575000.000000      54.000000   \n",
            "\n",
            "           height_cm      weight_kg  ...  mentality_composure  \\\n",
            "count  161583.000000  161583.000000  ...        128722.000000   \n",
            "mean      181.240205      75.235031  ...            57.816892   \n",
            "std         6.750148       7.000456  ...            12.329739   \n",
            "min       154.000000      49.000000  ...             3.000000   \n",
            "25%       176.000000      70.000000  ...            50.000000   \n",
            "50%       181.000000      75.000000  ...            59.000000   \n",
            "75%       186.000000      80.000000  ...            66.000000   \n",
            "max       208.000000     110.000000  ...            96.000000   \n",
            "\n",
            "       defending_marking_awareness  defending_standing_tackle  \\\n",
            "count                161583.000000              161583.000000   \n",
            "mean                     45.757957                  47.669996   \n",
            "std                      20.453699                  21.336404   \n",
            "min                       1.000000                   2.000000   \n",
            "25%                      26.000000                  27.000000   \n",
            "50%                      50.000000                  54.000000   \n",
            "75%                      63.000000                  66.000000   \n",
            "max                      94.000000                  94.000000   \n",
            "\n",
            "       defending_sliding_tackle  goalkeeping_diving  goalkeeping_handling  \\\n",
            "count             161583.000000        161583.00000         161583.000000   \n",
            "mean                  45.698588            16.52961             16.274918   \n",
            "std                   20.935273            17.67047             16.834294   \n",
            "min                    3.000000             1.00000              1.000000   \n",
            "25%                   25.000000             8.00000              8.000000   \n",
            "50%                   52.000000            11.00000             11.000000   \n",
            "75%                   64.000000            14.00000             14.000000   \n",
            "max                   95.000000            91.00000             92.000000   \n",
            "\n",
            "       goalkeeping_kicking  goalkeeping_positioning  goalkeeping_reflexes  \\\n",
            "count        161583.000000            161583.000000         161583.000000   \n",
            "mean             16.140374                16.288861             16.636973   \n",
            "std              16.476466                16.998697             17.980143   \n",
            "min               1.000000                 1.000000              1.000000   \n",
            "25%               8.000000                 8.000000              8.000000   \n",
            "50%              11.000000                11.000000             11.000000   \n",
            "75%              14.000000                14.000000             14.000000   \n",
            "max              95.000000                92.000000             94.000000   \n",
            "\n",
            "       goalkeeping_speed  \n",
            "count       17969.000000  \n",
            "mean           39.149090  \n",
            "std            10.503788  \n",
            "min            12.000000  \n",
            "25%            31.000000  \n",
            "50%            41.000000  \n",
            "75%            46.000000  \n",
            "max            68.000000  \n",
            "\n",
            "[8 rows x 63 columns]\n",
            "<class 'pandas.core.frame.DataFrame'>\n",
            "RangeIndex: 161583 entries, 0 to 161582\n",
            "Columns: 110 entries, player_id to player_face_url\n",
            "dtypes: float64(18), int64(45), object(47)\n",
            "memory usage: 135.6+ MB\n",
            "None\n"
          ]
        }
      ],
      "source": [
        "#Inspecting Data\n",
        "legacy_df = pd.read_csv('/content/drive/My Drive/Colab Notebooks/male_players (legacy).csv')\n",
        "print(legacy_df.head())\n",
        "print(legacy_df.describe())\n",
        "print(legacy_df.info())"
      ]
    },
    {
      "cell_type": "code",
      "execution_count": 9,
      "metadata": {
        "colab": {
          "base_uri": "https://localhost:8080/"
        },
        "id": "INM7oF_8_l_r",
        "outputId": "d88593ff-216e-4851-bd38-12928aa5d162"
      },
      "outputs": [
        {
          "output_type": "stream",
          "name": "stdout",
          "text": [
            "Data shape after dropping columns with >30.0% null values: (161583, 102)\n"
          ]
        }
      ],
      "source": [
        "#Dropping Columns with More Than 30% Null Values\n",
        "threshold = 0.3\n",
        "total_rows = len(legacy_df)\n",
        "legacy_df = legacy_df.loc[:, legacy_df.isnull().mean() < threshold]\n",
        "print(f\"Data shape after dropping columns with >{threshold*100}% null values: {legacy_df.shape}\")"
      ]
    },
    {
      "cell_type": "code",
      "execution_count": 10,
      "metadata": {
        "colab": {
          "base_uri": "https://localhost:8080/"
        },
        "id": "0TM67jGX_l_r",
        "outputId": "9ea0a0a3-a9e2-4603-9221-e9de3ce58542"
      },
      "outputs": [
        {
          "output_type": "stream",
          "name": "stdout",
          "text": [
            "Remaining columns: Index(['player_positions', 'overall', 'potential', 'value_eur', 'wage_eur',\n",
            "       'age', 'height_cm', 'weight_kg', 'club_name', 'club_position',\n",
            "       'weak_foot', 'skill_moves', 'international_reputation', 'work_rate',\n",
            "       'body_type', 'pace', 'shooting', 'passing', 'dribbling', 'defending',\n",
            "       'physic', 'attacking_crossing', 'attacking_finishing',\n",
            "       'attacking_heading_accuracy', 'attacking_short_passing',\n",
            "       'attacking_volleys', 'skill_dribbling', 'skill_curve',\n",
            "       'skill_fk_accuracy', 'skill_long_passing', 'skill_ball_control',\n",
            "       'movement_acceleration', 'movement_sprint_speed', 'movement_agility',\n",
            "       'movement_reactions', 'movement_balance', 'power_shot_power',\n",
            "       'power_jumping', 'power_stamina', 'power_strength', 'power_long_shots',\n",
            "       'mentality_aggression', 'mentality_interceptions',\n",
            "       'mentality_positioning', 'mentality_vision', 'mentality_penalties',\n",
            "       'mentality_composure', 'defending_marking_awareness',\n",
            "       'defending_standing_tackle', 'defending_sliding_tackle',\n",
            "       'goalkeeping_diving', 'goalkeeping_handling', 'goalkeeping_kicking',\n",
            "       'goalkeeping_positioning', 'goalkeeping_reflexes', 'ls', 'st', 'rs',\n",
            "       'lw', 'lf', 'cf', 'rf', 'rw', 'lam', 'cam', 'ram', 'lm', 'lcm', 'cm',\n",
            "       'rcm', 'rm', 'lwb', 'ldm', 'cdm', 'rdm', 'rwb', 'lb', 'lcb', 'cb',\n",
            "       'rcb', 'rb', 'gk'],\n",
            "      dtype='object')\n"
          ]
        }
      ],
      "source": [
        "#Dropping Irrelevant Columns\n",
        "useless_columns = ['player_id','player_url','player_face_url','short_name','long_name','fifa_version','fifa_update',\n",
        "                   'fifa_update_date','dob','league_name','league_id','club_jersey_number','club_joined_date',\n",
        "                   'club_contract_valid_until_year','nationality_id','nationality_name','preferred_foot',\n",
        "                   'real_face','club_team_id','league_level']\n",
        "legacy_df = legacy_df.drop(columns=useless_columns)\n",
        "print(\"Remaining columns:\", legacy_df.columns)\n"
      ]
    },
    {
      "cell_type": "code",
      "execution_count": 11,
      "metadata": {
        "colab": {
          "base_uri": "https://localhost:8080/"
        },
        "id": "hBYvTuaO_l_r",
        "outputId": "cd048e5f-e983-41ad-e6c6-f0e83e4c0283"
      },
      "outputs": [
        {
          "output_type": "stream",
          "name": "stdout",
          "text": [
            "<class 'pandas.core.frame.DataFrame'>\n",
            "RangeIndex: 161583 entries, 0 to 161582\n",
            "Data columns (total 50 columns):\n",
            " #   Column                       Non-Null Count   Dtype  \n",
            "---  ------                       --------------   -----  \n",
            " 0   overall                      161583 non-null  int64  \n",
            " 1   potential                    161583 non-null  int64  \n",
            " 2   value_eur                    159530 non-null  float64\n",
            " 3   wage_eur                     159822 non-null  float64\n",
            " 4   age                          161583 non-null  int64  \n",
            " 5   height_cm                    161583 non-null  int64  \n",
            " 6   weight_kg                    161583 non-null  int64  \n",
            " 7   weak_foot                    161583 non-null  int64  \n",
            " 8   skill_moves                  161583 non-null  int64  \n",
            " 9   international_reputation     161583 non-null  int64  \n",
            " 10  pace                         143614 non-null  float64\n",
            " 11  shooting                     143614 non-null  float64\n",
            " 12  passing                      143614 non-null  float64\n",
            " 13  dribbling                    143614 non-null  float64\n",
            " 14  defending                    143614 non-null  float64\n",
            " 15  physic                       143614 non-null  float64\n",
            " 16  attacking_crossing           161583 non-null  int64  \n",
            " 17  attacking_finishing          161583 non-null  int64  \n",
            " 18  attacking_heading_accuracy   161583 non-null  int64  \n",
            " 19  attacking_short_passing      161583 non-null  int64  \n",
            " 20  attacking_volleys            161583 non-null  int64  \n",
            " 21  skill_dribbling              161583 non-null  int64  \n",
            " 22  skill_curve                  161583 non-null  int64  \n",
            " 23  skill_fk_accuracy            161583 non-null  int64  \n",
            " 24  skill_long_passing           161583 non-null  int64  \n",
            " 25  skill_ball_control           161583 non-null  int64  \n",
            " 26  movement_acceleration        161583 non-null  int64  \n",
            " 27  movement_sprint_speed        161583 non-null  int64  \n",
            " 28  movement_agility             161583 non-null  int64  \n",
            " 29  movement_reactions           161583 non-null  int64  \n",
            " 30  movement_balance             161583 non-null  int64  \n",
            " 31  power_shot_power             161583 non-null  int64  \n",
            " 32  power_jumping                161583 non-null  int64  \n",
            " 33  power_stamina                161583 non-null  int64  \n",
            " 34  power_strength               161583 non-null  int64  \n",
            " 35  power_long_shots             161583 non-null  int64  \n",
            " 36  mentality_aggression         161583 non-null  int64  \n",
            " 37  mentality_interceptions      161583 non-null  int64  \n",
            " 38  mentality_positioning        161583 non-null  int64  \n",
            " 39  mentality_vision             161583 non-null  int64  \n",
            " 40  mentality_penalties          161583 non-null  int64  \n",
            " 41  mentality_composure          128722 non-null  float64\n",
            " 42  defending_marking_awareness  161583 non-null  int64  \n",
            " 43  defending_standing_tackle    161583 non-null  int64  \n",
            " 44  defending_sliding_tackle     161583 non-null  int64  \n",
            " 45  goalkeeping_diving           161583 non-null  int64  \n",
            " 46  goalkeeping_handling         161583 non-null  int64  \n",
            " 47  goalkeeping_kicking          161583 non-null  int64  \n",
            " 48  goalkeeping_positioning      161583 non-null  int64  \n",
            " 49  goalkeeping_reflexes         161583 non-null  int64  \n",
            "dtypes: float64(9), int64(41)\n",
            "memory usage: 61.6 MB\n",
            "Numeric data info: None\n",
            "<class 'pandas.core.frame.DataFrame'>\n",
            "RangeIndex: 161583 entries, 0 to 161582\n",
            "Data columns (total 32 columns):\n",
            " #   Column            Non-Null Count   Dtype \n",
            "---  ------            --------------   ----- \n",
            " 0   player_positions  161583 non-null  object\n",
            " 1   club_name         159810 non-null  object\n",
            " 2   club_position     159810 non-null  object\n",
            " 3   work_rate         161583 non-null  object\n",
            " 4   body_type         161583 non-null  object\n",
            " 5   ls                161583 non-null  object\n",
            " 6   st                161583 non-null  object\n",
            " 7   rs                161583 non-null  object\n",
            " 8   lw                161583 non-null  object\n",
            " 9   lf                161583 non-null  object\n",
            " 10  cf                161583 non-null  object\n",
            " 11  rf                161583 non-null  object\n",
            " 12  rw                161583 non-null  object\n",
            " 13  lam               161583 non-null  object\n",
            " 14  cam               161583 non-null  object\n",
            " 15  ram               161583 non-null  object\n",
            " 16  lm                161583 non-null  object\n",
            " 17  lcm               161583 non-null  object\n",
            " 18  cm                161583 non-null  object\n",
            " 19  rcm               161583 non-null  object\n",
            " 20  rm                161583 non-null  object\n",
            " 21  lwb               161583 non-null  object\n",
            " 22  ldm               161583 non-null  object\n",
            " 23  cdm               161583 non-null  object\n",
            " 24  rdm               161583 non-null  object\n",
            " 25  rwb               161583 non-null  object\n",
            " 26  lb                161583 non-null  object\n",
            " 27  lcb               161583 non-null  object\n",
            " 28  cb                161583 non-null  object\n",
            " 29  rcb               161583 non-null  object\n",
            " 30  rb                161583 non-null  object\n",
            " 31  gk                161583 non-null  object\n",
            "dtypes: object(32)\n",
            "memory usage: 39.4+ MB\n",
            "Textual data info: None\n"
          ]
        }
      ],
      "source": [
        "#Numeric and Categorical Data\n",
        "numeric_data = legacy_df.select_dtypes(include=['int64', 'float64'])\n",
        "categorical_data = legacy_df.select_dtypes(exclude=['int64', 'float64'])\n",
        "print(\"Numeric data info:\", numeric_data.info())\n",
        "print(\"Textual data info:\", categorical_data.info())"
      ]
    },
    {
      "cell_type": "code",
      "execution_count": 12,
      "metadata": {
        "id": "CeKdTFBO_l_s"
      },
      "outputs": [],
      "source": [
        "#Imputing Missing Values\n",
        "numeric_data.fillna(numeric_data.mean(), inplace=True)"
      ]
    },
    {
      "cell_type": "code",
      "execution_count": 13,
      "metadata": {
        "id": "l78Rms8L_l_s"
      },
      "outputs": [],
      "source": [
        "for column in categorical_data:\n",
        "    categorical_data[column].fillna(categorical_data[column].mode()[0], inplace=True)"
      ]
    },
    {
      "cell_type": "code",
      "execution_count": 14,
      "metadata": {
        "id": "2nbSqkRz_l_t"
      },
      "outputs": [],
      "source": [
        "#Processing the 'gk' Column\n",
        "# Replacing NaN with value\n",
        "categorical_data['gk'].fillna('0+0', inplace=True)"
      ]
    },
    {
      "cell_type": "code",
      "execution_count": 15,
      "metadata": {
        "id": "CxPTcyQe_l_t"
      },
      "outputs": [],
      "source": [
        "# Splitting gk column\n",
        "categorical_data[['gk_base', 'gk_modifier']] = categorical_data['gk'].str.split('+', expand=True)"
      ]
    },
    {
      "cell_type": "code",
      "execution_count": 16,
      "metadata": {
        "id": "javWBB0__l_t"
      },
      "outputs": [],
      "source": [
        "#Adding the splits\n",
        "categorical_data['gk_combined'] = categorical_data['gk_base'] + categorical_data['gk_modifier']"
      ]
    },
    {
      "cell_type": "code",
      "execution_count": 17,
      "metadata": {
        "id": "GfsTIoC9_l_u"
      },
      "outputs": [],
      "source": [
        "# Dropping the original column\n",
        "categorical_data.drop(columns=['gk', 'gk_base', 'gk_modifier'], inplace=True)"
      ]
    },
    {
      "cell_type": "code",
      "execution_count": 18,
      "metadata": {
        "id": "IPOu-EfX_l_u"
      },
      "outputs": [],
      "source": [
        "#encode cateogrical data\n",
        "label_encoder = LabelEncoder()\n",
        "for column in categorical_data:\n",
        "    categorical_data[column] = label_encoder.fit_transform(categorical_data[column])"
      ]
    },
    {
      "cell_type": "code",
      "execution_count": 19,
      "metadata": {
        "colab": {
          "base_uri": "https://localhost:8080/"
        },
        "id": "zbwfrIXT_l_u",
        "outputId": "940c2902-90e9-4041-c52a-2670575f6609"
      },
      "outputs": [
        {
          "output_type": "stream",
          "name": "stdout",
          "text": [
            "Cleaned data shape: (161583, 82)\n"
          ]
        }
      ],
      "source": [
        "#New and cleaned Dataframe\n",
        "cleaned_legacy = pd.concat([numeric_data, categorical_data], axis=1)\n",
        "print(\"Cleaned data shape:\", cleaned_legacy.shape)"
      ]
    },
    {
      "cell_type": "markdown",
      "metadata": {
        "id": "r06jCU0-_l_v"
      },
      "source": [
        "Feature Engineernig"
      ]
    },
    {
      "cell_type": "code",
      "execution_count": 20,
      "metadata": {
        "id": "UZ-b_3DS_l_v"
      },
      "outputs": [],
      "source": [
        "X = cleaned_legacy.drop('overall', axis=1)\n",
        "y = cleaned_legacy['overall']\n",
        "X_train, X_test, y_train, y_test = train_test_split(X, y, test_size=0.2, random_state=42)"
      ]
    },
    {
      "cell_type": "code",
      "execution_count": 21,
      "metadata": {
        "id": "WrVyYNeq_l_v"
      },
      "outputs": [],
      "source": [
        "#Using Random Forest Clssifier to get feature importances\n",
        "rforest_classifier = RandomForestClassifier(n_estimators=112, max_depth=12, criterion='entropy')\n",
        "rforest_classifier.fit(X_train, y_train)\n",
        "feature_importance = rforest_classifier.feature_importances_"
      ]
    },
    {
      "cell_type": "code",
      "execution_count": 22,
      "metadata": {
        "colab": {
          "base_uri": "https://localhost:8080/"
        },
        "id": "UKwTfmLK_l_w",
        "outputId": "44fcd22a-3c74-4cd7-81cd-2a944d47c5dc"
      },
      "outputs": [
        {
          "output_type": "stream",
          "name": "stdout",
          "text": [
            "               Feature  Importance\n",
            "1            value_eur    0.110534\n",
            "0            potential    0.058887\n",
            "28  movement_reactions    0.042117\n",
            "78                 rcb    0.041225\n",
            "76                 lcb    0.039443\n",
            "77                  cb    0.037792\n",
            "69                  rm    0.033286\n",
            "65                  lm    0.029624\n",
            "2             wage_eur    0.027103\n",
            "75                  lb    0.024395\n",
            "79                  rb    0.024133\n",
            "59                  cf    0.023851\n",
            "58                  lf    0.022347\n",
            "3                  age    0.022179\n",
            "60                  rf    0.021636\n",
            "62                 lam    0.020978\n",
            "63                 cam    0.020517\n",
            "54                  ls    0.019971\n",
            "13           defending    0.019098\n",
            "56                  rs    0.019017\n"
          ]
        }
      ],
      "source": [
        "feature_importance_df = pd.DataFrame({'Feature': X.columns, 'Importance': feature_importance})\n",
        "feature_importance_df = feature_importance_df.sort_values(by='Importance', ascending=False)\n",
        "print(feature_importance_df.head(20))"
      ]
    },
    {
      "cell_type": "code",
      "execution_count": 23,
      "metadata": {
        "id": "1OqQS94L_l_w"
      },
      "outputs": [],
      "source": [
        "#Top Correlated Features\n",
        "selected_features = [\n",
        "    'movement_reactions', 'potential', 'passing', 'wage_eur', 'value_eur',\n",
        "    'dribbling', 'attacking_short_passing', 'international_reputation', 'skill_long_passing',\n",
        "    'physic', 'age', 'skill_ball_control', 'shooting', 'skill_curve', 'weak_foot',\n",
        "    'skill_moves', 'skill_dribbling', 'attacking_finishing'\n",
        "]"
      ]
    },
    {
      "cell_type": "code",
      "execution_count": 24,
      "metadata": {
        "id": "TFhIFtoe_l_w"
      },
      "outputs": [],
      "source": [
        "# Standardize selected features\n",
        "scaler = StandardScaler()\n",
        "X = cleaned_legacy[selected_features]\n",
        "X_scaled = scaler.fit_transform(X)\n",
        "y = cleaned_legacy['overall']"
      ]
    },
    {
      "cell_type": "code",
      "execution_count": 25,
      "metadata": {
        "id": "ORAZeZh-_l_w"
      },
      "outputs": [],
      "source": [
        "X_train, X_test, y_train, y_test = train_test_split(X_scaled, y, test_size=0.2, random_state=42)"
      ]
    },
    {
      "cell_type": "markdown",
      "metadata": {
        "id": "o8P1vlSI_l_w"
      },
      "source": [
        "Training And Evaluating Models"
      ]
    },
    {
      "cell_type": "code",
      "execution_count": 26,
      "metadata": {
        "colab": {
          "base_uri": "https://localhost:8080/"
        },
        "id": "E4mMrtA7_l_x",
        "outputId": "6e069237-dd74-4c65-da7b-0a734de9e6ad"
      },
      "outputs": [
        {
          "output_type": "stream",
          "name": "stdout",
          "text": [
            "Initial RMSE (RandomForest): 0.8650163457763402\n"
          ]
        }
      ],
      "source": [
        "#Random Forest Regressor\n",
        "model = RandomForestRegressor(random_state=42)\n",
        "model.fit(X_train, y_train)\n",
        "initial_predictions = model.predict(X_test)\n",
        "initial_rmse = np.sqrt(mean_squared_error(y_test, initial_predictions))\n",
        "print(f\"Initial RMSE (RandomForest): {initial_rmse}\")"
      ]
    },
    {
      "cell_type": "code",
      "execution_count": 27,
      "metadata": {
        "colab": {
          "base_uri": "https://localhost:8080/",
          "height": 119
        },
        "id": "LruemOpH_l_x",
        "outputId": "ed72bdef-464a-4cb7-967d-02aa952f6231"
      },
      "outputs": [
        {
          "output_type": "execute_result",
          "data": {
            "text/plain": [
              "GridSearchCV(cv=4, estimator=RandomForestRegressor(random_state=42),\n",
              "             param_grid={'max_depth': [5, 10, 15],\n",
              "                         'min_samples_split': [2, 5, 10],\n",
              "                         'n_estimators': [100, 150, 200]},\n",
              "             scoring='neg_mean_squared_error')"
            ],
            "text/html": [
              "<style>#sk-container-id-1 {color: black;background-color: white;}#sk-container-id-1 pre{padding: 0;}#sk-container-id-1 div.sk-toggleable {background-color: white;}#sk-container-id-1 label.sk-toggleable__label {cursor: pointer;display: block;width: 100%;margin-bottom: 0;padding: 0.3em;box-sizing: border-box;text-align: center;}#sk-container-id-1 label.sk-toggleable__label-arrow:before {content: \"▸\";float: left;margin-right: 0.25em;color: #696969;}#sk-container-id-1 label.sk-toggleable__label-arrow:hover:before {color: black;}#sk-container-id-1 div.sk-estimator:hover label.sk-toggleable__label-arrow:before {color: black;}#sk-container-id-1 div.sk-toggleable__content {max-height: 0;max-width: 0;overflow: hidden;text-align: left;background-color: #f0f8ff;}#sk-container-id-1 div.sk-toggleable__content pre {margin: 0.2em;color: black;border-radius: 0.25em;background-color: #f0f8ff;}#sk-container-id-1 input.sk-toggleable__control:checked~div.sk-toggleable__content {max-height: 200px;max-width: 100%;overflow: auto;}#sk-container-id-1 input.sk-toggleable__control:checked~label.sk-toggleable__label-arrow:before {content: \"▾\";}#sk-container-id-1 div.sk-estimator input.sk-toggleable__control:checked~label.sk-toggleable__label {background-color: #d4ebff;}#sk-container-id-1 div.sk-label input.sk-toggleable__control:checked~label.sk-toggleable__label {background-color: #d4ebff;}#sk-container-id-1 input.sk-hidden--visually {border: 0;clip: rect(1px 1px 1px 1px);clip: rect(1px, 1px, 1px, 1px);height: 1px;margin: -1px;overflow: hidden;padding: 0;position: absolute;width: 1px;}#sk-container-id-1 div.sk-estimator {font-family: monospace;background-color: #f0f8ff;border: 1px dotted black;border-radius: 0.25em;box-sizing: border-box;margin-bottom: 0.5em;}#sk-container-id-1 div.sk-estimator:hover {background-color: #d4ebff;}#sk-container-id-1 div.sk-parallel-item::after {content: \"\";width: 100%;border-bottom: 1px solid gray;flex-grow: 1;}#sk-container-id-1 div.sk-label:hover label.sk-toggleable__label {background-color: #d4ebff;}#sk-container-id-1 div.sk-serial::before {content: \"\";position: absolute;border-left: 1px solid gray;box-sizing: border-box;top: 0;bottom: 0;left: 50%;z-index: 0;}#sk-container-id-1 div.sk-serial {display: flex;flex-direction: column;align-items: center;background-color: white;padding-right: 0.2em;padding-left: 0.2em;position: relative;}#sk-container-id-1 div.sk-item {position: relative;z-index: 1;}#sk-container-id-1 div.sk-parallel {display: flex;align-items: stretch;justify-content: center;background-color: white;position: relative;}#sk-container-id-1 div.sk-item::before, #sk-container-id-1 div.sk-parallel-item::before {content: \"\";position: absolute;border-left: 1px solid gray;box-sizing: border-box;top: 0;bottom: 0;left: 50%;z-index: -1;}#sk-container-id-1 div.sk-parallel-item {display: flex;flex-direction: column;z-index: 1;position: relative;background-color: white;}#sk-container-id-1 div.sk-parallel-item:first-child::after {align-self: flex-end;width: 50%;}#sk-container-id-1 div.sk-parallel-item:last-child::after {align-self: flex-start;width: 50%;}#sk-container-id-1 div.sk-parallel-item:only-child::after {width: 0;}#sk-container-id-1 div.sk-dashed-wrapped {border: 1px dashed gray;margin: 0 0.4em 0.5em 0.4em;box-sizing: border-box;padding-bottom: 0.4em;background-color: white;}#sk-container-id-1 div.sk-label label {font-family: monospace;font-weight: bold;display: inline-block;line-height: 1.2em;}#sk-container-id-1 div.sk-label-container {text-align: center;}#sk-container-id-1 div.sk-container {/* jupyter's `normalize.less` sets `[hidden] { display: none; }` but bootstrap.min.css set `[hidden] { display: none !important; }` so we also need the `!important` here to be able to override the default hidden behavior on the sphinx rendered scikit-learn.org. See: https://github.com/scikit-learn/scikit-learn/issues/21755 */display: inline-block !important;position: relative;}#sk-container-id-1 div.sk-text-repr-fallback {display: none;}</style><div id=\"sk-container-id-1\" class=\"sk-top-container\"><div class=\"sk-text-repr-fallback\"><pre>GridSearchCV(cv=4, estimator=RandomForestRegressor(random_state=42),\n",
              "             param_grid={&#x27;max_depth&#x27;: [5, 10, 15],\n",
              "                         &#x27;min_samples_split&#x27;: [2, 5, 10],\n",
              "                         &#x27;n_estimators&#x27;: [100, 150, 200]},\n",
              "             scoring=&#x27;neg_mean_squared_error&#x27;)</pre><b>In a Jupyter environment, please rerun this cell to show the HTML representation or trust the notebook. <br />On GitHub, the HTML representation is unable to render, please try loading this page with nbviewer.org.</b></div><div class=\"sk-container\" hidden><div class=\"sk-item sk-dashed-wrapped\"><div class=\"sk-label-container\"><div class=\"sk-label sk-toggleable\"><input class=\"sk-toggleable__control sk-hidden--visually\" id=\"sk-estimator-id-1\" type=\"checkbox\" ><label for=\"sk-estimator-id-1\" class=\"sk-toggleable__label sk-toggleable__label-arrow\">GridSearchCV</label><div class=\"sk-toggleable__content\"><pre>GridSearchCV(cv=4, estimator=RandomForestRegressor(random_state=42),\n",
              "             param_grid={&#x27;max_depth&#x27;: [5, 10, 15],\n",
              "                         &#x27;min_samples_split&#x27;: [2, 5, 10],\n",
              "                         &#x27;n_estimators&#x27;: [100, 150, 200]},\n",
              "             scoring=&#x27;neg_mean_squared_error&#x27;)</pre></div></div></div><div class=\"sk-parallel\"><div class=\"sk-parallel-item\"><div class=\"sk-item\"><div class=\"sk-label-container\"><div class=\"sk-label sk-toggleable\"><input class=\"sk-toggleable__control sk-hidden--visually\" id=\"sk-estimator-id-2\" type=\"checkbox\" ><label for=\"sk-estimator-id-2\" class=\"sk-toggleable__label sk-toggleable__label-arrow\">estimator: RandomForestRegressor</label><div class=\"sk-toggleable__content\"><pre>RandomForestRegressor(random_state=42)</pre></div></div></div><div class=\"sk-serial\"><div class=\"sk-item\"><div class=\"sk-estimator sk-toggleable\"><input class=\"sk-toggleable__control sk-hidden--visually\" id=\"sk-estimator-id-3\" type=\"checkbox\" ><label for=\"sk-estimator-id-3\" class=\"sk-toggleable__label sk-toggleable__label-arrow\">RandomForestRegressor</label><div class=\"sk-toggleable__content\"><pre>RandomForestRegressor(random_state=42)</pre></div></div></div></div></div></div></div></div></div></div>"
            ]
          },
          "metadata": {},
          "execution_count": 27
        }
      ],
      "source": [
        "# Hyperparameter tuning for RandomForestRegressor\n",
        "param_grid = {\n",
        "    'n_estimators': [100, 150, 200],\n",
        "    'max_depth': [5, 10, 15],\n",
        "    'min_samples_split': [2, 5, 10],\n",
        "}\n",
        "grid_search = GridSearchCV(model, param_grid, scoring='neg_mean_squared_error', cv=4)\n",
        "grid_search.fit(X_train, y_train)"
      ]
    },
    {
      "cell_type": "code",
      "execution_count": 28,
      "metadata": {
        "colab": {
          "base_uri": "https://localhost:8080/"
        },
        "id": "TsmstVG9_l_x",
        "outputId": "70e92df3-9306-47f9-ca2d-2a15b0c4154f"
      },
      "outputs": [
        {
          "output_type": "stream",
          "name": "stdout",
          "text": [
            "Mean RMSE (RandomForest with GridSearch): 1.2573534601513245\n"
          ]
        }
      ],
      "source": [
        "#best model\n",
        "best_model = grid_search.best_estimator_\n",
        "rmse_scores = np.sqrt(-cross_val_score(best_model, X, y, scoring='neg_mean_squared_error', cv=5))\n",
        "print(f\"Mean RMSE (RandomForest with GridSearch): {np.mean(rmse_scores)}\")\n"
      ]
    },
    {
      "cell_type": "code",
      "execution_count": 29,
      "metadata": {
        "colab": {
          "base_uri": "https://localhost:8080/"
        },
        "id": "AxmpxxKc_l_x",
        "outputId": "d8cfa7cb-254d-4ee1-ecf0-b973aebbb7de"
      },
      "outputs": [
        {
          "output_type": "stream",
          "name": "stdout",
          "text": [
            "Initial RMSE (XGBoost): 0.9357982258867391\n"
          ]
        }
      ],
      "source": [
        "#XGBoost Model\n",
        "xgb_model = xgb.XGBRegressor()\n",
        "xgb_model.fit(X_train, y_train)\n",
        "xgb_initial_predictions = xgb_model.predict(X_test)\n",
        "xgb_initial_rmse = np.sqrt(mean_squared_error(y_test, xgb_initial_predictions))\n",
        "print(f\"Initial RMSE (XGBoost): {xgb_initial_rmse}\")"
      ]
    },
    {
      "cell_type": "code",
      "execution_count": 30,
      "metadata": {
        "id": "rsnIb25K_l_x"
      },
      "outputs": [],
      "source": [
        "# Hyperparameter tuning for XGBoost\n",
        "param_grid_xgb = {\n",
        "    'learning_rate': [0.1, 0.01],\n",
        "    'n_estimators': [100, 500],\n",
        "    'max_depth': [3, 5],\n",
        "    'min_child_weight': [1, 3],\n",
        "    'gamma': [0, 0.1],\n",
        "    'subsample': [0.8, 1.0],\n",
        "    'colsample_bytree': [0.8, 1.0]\n",
        "}"
      ]
    },
    {
      "cell_type": "code",
      "execution_count": 31,
      "metadata": {
        "colab": {
          "base_uri": "https://localhost:8080/",
          "height": 119
        },
        "id": "4S6fnTD8_l_x",
        "outputId": "3edfe9ba-0d41-458f-ec6e-a3ecba54fd9b"
      },
      "outputs": [
        {
          "output_type": "execute_result",
          "data": {
            "text/plain": [
              "GridSearchCV(cv=KFold(n_splits=3, random_state=42, shuffle=True),\n",
              "             estimator=XGBRegressor(base_score=None, booster=None,\n",
              "                                    callbacks=None, colsample_bylevel=None,\n",
              "                                    colsample_bynode=None,\n",
              "                                    colsample_bytree=None, device=None,\n",
              "                                    early_stopping_rounds=None,\n",
              "                                    enable_categorical=False, eval_metric=None,\n",
              "                                    feature_types=None, gamma=None,\n",
              "                                    grow_policy=None, importance_type=None,\n",
              "                                    inte...\n",
              "                                    monotone_constraints=None,\n",
              "                                    multi_strategy=None, n_estimators=None,\n",
              "                                    n_jobs=None, num_parallel_tree=None,\n",
              "                                    random_state=None, ...),\n",
              "             param_grid={'colsample_bytree': [0.8, 1.0], 'gamma': [0, 0.1],\n",
              "                         'learning_rate': [0.1, 0.01], 'max_depth': [3, 5],\n",
              "                         'min_child_weight': [1, 3], 'n_estimators': [100, 500],\n",
              "                         'subsample': [0.8, 1.0]},\n",
              "             scoring=make_scorer(<lambda>, greater_is_better=False))"
            ],
            "text/html": [
              "<style>#sk-container-id-2 {color: black;background-color: white;}#sk-container-id-2 pre{padding: 0;}#sk-container-id-2 div.sk-toggleable {background-color: white;}#sk-container-id-2 label.sk-toggleable__label {cursor: pointer;display: block;width: 100%;margin-bottom: 0;padding: 0.3em;box-sizing: border-box;text-align: center;}#sk-container-id-2 label.sk-toggleable__label-arrow:before {content: \"▸\";float: left;margin-right: 0.25em;color: #696969;}#sk-container-id-2 label.sk-toggleable__label-arrow:hover:before {color: black;}#sk-container-id-2 div.sk-estimator:hover label.sk-toggleable__label-arrow:before {color: black;}#sk-container-id-2 div.sk-toggleable__content {max-height: 0;max-width: 0;overflow: hidden;text-align: left;background-color: #f0f8ff;}#sk-container-id-2 div.sk-toggleable__content pre {margin: 0.2em;color: black;border-radius: 0.25em;background-color: #f0f8ff;}#sk-container-id-2 input.sk-toggleable__control:checked~div.sk-toggleable__content {max-height: 200px;max-width: 100%;overflow: auto;}#sk-container-id-2 input.sk-toggleable__control:checked~label.sk-toggleable__label-arrow:before {content: \"▾\";}#sk-container-id-2 div.sk-estimator input.sk-toggleable__control:checked~label.sk-toggleable__label {background-color: #d4ebff;}#sk-container-id-2 div.sk-label input.sk-toggleable__control:checked~label.sk-toggleable__label {background-color: #d4ebff;}#sk-container-id-2 input.sk-hidden--visually {border: 0;clip: rect(1px 1px 1px 1px);clip: rect(1px, 1px, 1px, 1px);height: 1px;margin: -1px;overflow: hidden;padding: 0;position: absolute;width: 1px;}#sk-container-id-2 div.sk-estimator {font-family: monospace;background-color: #f0f8ff;border: 1px dotted black;border-radius: 0.25em;box-sizing: border-box;margin-bottom: 0.5em;}#sk-container-id-2 div.sk-estimator:hover {background-color: #d4ebff;}#sk-container-id-2 div.sk-parallel-item::after {content: \"\";width: 100%;border-bottom: 1px solid gray;flex-grow: 1;}#sk-container-id-2 div.sk-label:hover label.sk-toggleable__label {background-color: #d4ebff;}#sk-container-id-2 div.sk-serial::before {content: \"\";position: absolute;border-left: 1px solid gray;box-sizing: border-box;top: 0;bottom: 0;left: 50%;z-index: 0;}#sk-container-id-2 div.sk-serial {display: flex;flex-direction: column;align-items: center;background-color: white;padding-right: 0.2em;padding-left: 0.2em;position: relative;}#sk-container-id-2 div.sk-item {position: relative;z-index: 1;}#sk-container-id-2 div.sk-parallel {display: flex;align-items: stretch;justify-content: center;background-color: white;position: relative;}#sk-container-id-2 div.sk-item::before, #sk-container-id-2 div.sk-parallel-item::before {content: \"\";position: absolute;border-left: 1px solid gray;box-sizing: border-box;top: 0;bottom: 0;left: 50%;z-index: -1;}#sk-container-id-2 div.sk-parallel-item {display: flex;flex-direction: column;z-index: 1;position: relative;background-color: white;}#sk-container-id-2 div.sk-parallel-item:first-child::after {align-self: flex-end;width: 50%;}#sk-container-id-2 div.sk-parallel-item:last-child::after {align-self: flex-start;width: 50%;}#sk-container-id-2 div.sk-parallel-item:only-child::after {width: 0;}#sk-container-id-2 div.sk-dashed-wrapped {border: 1px dashed gray;margin: 0 0.4em 0.5em 0.4em;box-sizing: border-box;padding-bottom: 0.4em;background-color: white;}#sk-container-id-2 div.sk-label label {font-family: monospace;font-weight: bold;display: inline-block;line-height: 1.2em;}#sk-container-id-2 div.sk-label-container {text-align: center;}#sk-container-id-2 div.sk-container {/* jupyter's `normalize.less` sets `[hidden] { display: none; }` but bootstrap.min.css set `[hidden] { display: none !important; }` so we also need the `!important` here to be able to override the default hidden behavior on the sphinx rendered scikit-learn.org. See: https://github.com/scikit-learn/scikit-learn/issues/21755 */display: inline-block !important;position: relative;}#sk-container-id-2 div.sk-text-repr-fallback {display: none;}</style><div id=\"sk-container-id-2\" class=\"sk-top-container\"><div class=\"sk-text-repr-fallback\"><pre>GridSearchCV(cv=KFold(n_splits=3, random_state=42, shuffle=True),\n",
              "             estimator=XGBRegressor(base_score=None, booster=None,\n",
              "                                    callbacks=None, colsample_bylevel=None,\n",
              "                                    colsample_bynode=None,\n",
              "                                    colsample_bytree=None, device=None,\n",
              "                                    early_stopping_rounds=None,\n",
              "                                    enable_categorical=False, eval_metric=None,\n",
              "                                    feature_types=None, gamma=None,\n",
              "                                    grow_policy=None, importance_type=None,\n",
              "                                    inte...\n",
              "                                    monotone_constraints=None,\n",
              "                                    multi_strategy=None, n_estimators=None,\n",
              "                                    n_jobs=None, num_parallel_tree=None,\n",
              "                                    random_state=None, ...),\n",
              "             param_grid={&#x27;colsample_bytree&#x27;: [0.8, 1.0], &#x27;gamma&#x27;: [0, 0.1],\n",
              "                         &#x27;learning_rate&#x27;: [0.1, 0.01], &#x27;max_depth&#x27;: [3, 5],\n",
              "                         &#x27;min_child_weight&#x27;: [1, 3], &#x27;n_estimators&#x27;: [100, 500],\n",
              "                         &#x27;subsample&#x27;: [0.8, 1.0]},\n",
              "             scoring=make_scorer(&lt;lambda&gt;, greater_is_better=False))</pre><b>In a Jupyter environment, please rerun this cell to show the HTML representation or trust the notebook. <br />On GitHub, the HTML representation is unable to render, please try loading this page with nbviewer.org.</b></div><div class=\"sk-container\" hidden><div class=\"sk-item sk-dashed-wrapped\"><div class=\"sk-label-container\"><div class=\"sk-label sk-toggleable\"><input class=\"sk-toggleable__control sk-hidden--visually\" id=\"sk-estimator-id-4\" type=\"checkbox\" ><label for=\"sk-estimator-id-4\" class=\"sk-toggleable__label sk-toggleable__label-arrow\">GridSearchCV</label><div class=\"sk-toggleable__content\"><pre>GridSearchCV(cv=KFold(n_splits=3, random_state=42, shuffle=True),\n",
              "             estimator=XGBRegressor(base_score=None, booster=None,\n",
              "                                    callbacks=None, colsample_bylevel=None,\n",
              "                                    colsample_bynode=None,\n",
              "                                    colsample_bytree=None, device=None,\n",
              "                                    early_stopping_rounds=None,\n",
              "                                    enable_categorical=False, eval_metric=None,\n",
              "                                    feature_types=None, gamma=None,\n",
              "                                    grow_policy=None, importance_type=None,\n",
              "                                    inte...\n",
              "                                    monotone_constraints=None,\n",
              "                                    multi_strategy=None, n_estimators=None,\n",
              "                                    n_jobs=None, num_parallel_tree=None,\n",
              "                                    random_state=None, ...),\n",
              "             param_grid={&#x27;colsample_bytree&#x27;: [0.8, 1.0], &#x27;gamma&#x27;: [0, 0.1],\n",
              "                         &#x27;learning_rate&#x27;: [0.1, 0.01], &#x27;max_depth&#x27;: [3, 5],\n",
              "                         &#x27;min_child_weight&#x27;: [1, 3], &#x27;n_estimators&#x27;: [100, 500],\n",
              "                         &#x27;subsample&#x27;: [0.8, 1.0]},\n",
              "             scoring=make_scorer(&lt;lambda&gt;, greater_is_better=False))</pre></div></div></div><div class=\"sk-parallel\"><div class=\"sk-parallel-item\"><div class=\"sk-item\"><div class=\"sk-label-container\"><div class=\"sk-label sk-toggleable\"><input class=\"sk-toggleable__control sk-hidden--visually\" id=\"sk-estimator-id-5\" type=\"checkbox\" ><label for=\"sk-estimator-id-5\" class=\"sk-toggleable__label sk-toggleable__label-arrow\">estimator: XGBRegressor</label><div class=\"sk-toggleable__content\"><pre>XGBRegressor(base_score=None, booster=None, callbacks=None,\n",
              "             colsample_bylevel=None, colsample_bynode=None,\n",
              "             colsample_bytree=None, device=None, early_stopping_rounds=None,\n",
              "             enable_categorical=False, eval_metric=None, feature_types=None,\n",
              "             gamma=None, grow_policy=None, importance_type=None,\n",
              "             interaction_constraints=None, learning_rate=None, max_bin=None,\n",
              "             max_cat_threshold=None, max_cat_to_onehot=None,\n",
              "             max_delta_step=None, max_depth=None, max_leaves=None,\n",
              "             min_child_weight=None, missing=nan, monotone_constraints=None,\n",
              "             multi_strategy=None, n_estimators=None, n_jobs=None,\n",
              "             num_parallel_tree=None, random_state=None, ...)</pre></div></div></div><div class=\"sk-serial\"><div class=\"sk-item\"><div class=\"sk-estimator sk-toggleable\"><input class=\"sk-toggleable__control sk-hidden--visually\" id=\"sk-estimator-id-6\" type=\"checkbox\" ><label for=\"sk-estimator-id-6\" class=\"sk-toggleable__label sk-toggleable__label-arrow\">XGBRegressor</label><div class=\"sk-toggleable__content\"><pre>XGBRegressor(base_score=None, booster=None, callbacks=None,\n",
              "             colsample_bylevel=None, colsample_bynode=None,\n",
              "             colsample_bytree=None, device=None, early_stopping_rounds=None,\n",
              "             enable_categorical=False, eval_metric=None, feature_types=None,\n",
              "             gamma=None, grow_policy=None, importance_type=None,\n",
              "             interaction_constraints=None, learning_rate=None, max_bin=None,\n",
              "             max_cat_threshold=None, max_cat_to_onehot=None,\n",
              "             max_delta_step=None, max_depth=None, max_leaves=None,\n",
              "             min_child_weight=None, missing=nan, monotone_constraints=None,\n",
              "             multi_strategy=None, n_estimators=None, n_jobs=None,\n",
              "             num_parallel_tree=None, random_state=None, ...)</pre></div></div></div></div></div></div></div></div></div></div>"
            ]
          },
          "metadata": {},
          "execution_count": 31
        }
      ],
      "source": [
        "scorer = make_scorer(lambda y_true, y_pred: np.sqrt(mean_squared_error(y_true, y_pred)), greater_is_better=False)\n",
        "cv = KFold(n_splits=3, shuffle=True, random_state=42)\n",
        "xgb_grid_search = GridSearchCV(xgb_model, param_grid=param_grid_xgb, scoring=scorer, cv=cv)\n",
        "xgb_grid_search.fit(X_train, y_train)"
      ]
    },
    {
      "cell_type": "code",
      "execution_count": 32,
      "metadata": {
        "colab": {
          "base_uri": "https://localhost:8080/"
        },
        "id": "IKuz26gq_l_y",
        "outputId": "b8d81872-4f83-4f7a-86c2-71284b7c3e39"
      },
      "outputs": [
        {
          "output_type": "stream",
          "name": "stdout",
          "text": [
            "Mean RMSE (XGBoost with GridSearch): 0.9196351624281256\n"
          ]
        }
      ],
      "source": [
        "#best XGBoost model\n",
        "xgb_best_model = xgb_grid_search.best_estimator_\n",
        "xgb_cv_scores = cross_val_score(xgb_best_model, X, y, cv=cv, scoring=scorer)\n",
        "xgb_rmse_scores = -xgb_cv_scores\n",
        "print(f\"Mean RMSE (XGBoost with GridSearch): {np.mean(xgb_rmse_scores)}\")"
      ]
    },
    {
      "cell_type": "code",
      "execution_count": 33,
      "metadata": {
        "colab": {
          "base_uri": "https://localhost:8080/"
        },
        "id": "skrbef1r_l_y",
        "outputId": "9b30a6d2-74b7-4069-8e8d-076a5b93ecb1"
      },
      "outputs": [
        {
          "output_type": "stream",
          "name": "stdout",
          "text": [
            "Initial RMSE (GradientBoosting): 1.2114824134971478\n"
          ]
        }
      ],
      "source": [
        "#Gradient Boosting Regressor\n",
        "gb_model = GradientBoostingRegressor()\n",
        "gb_model.fit(X_train, y_train)\n",
        "gb_initial_predictions = gb_model.predict(X_test)\n",
        "gb_initial_rmse = np.sqrt(mean_squared_error(y_test, gb_initial_predictions))\n",
        "print(f\"Initial RMSE (GradientBoosting): {gb_initial_rmse}\")"
      ]
    },
    {
      "cell_type": "code",
      "execution_count": 34,
      "metadata": {
        "colab": {
          "base_uri": "https://localhost:8080/",
          "height": 119
        },
        "id": "wblPTHme_l_y",
        "outputId": "b90279a5-e4a5-4970-e769-95ad10bcf059"
      },
      "outputs": [
        {
          "output_type": "execute_result",
          "data": {
            "text/plain": [
              "GridSearchCV(cv=KFold(n_splits=3, random_state=42, shuffle=True),\n",
              "             estimator=GradientBoostingRegressor(),\n",
              "             param_grid={'learning_rate': [0.01, 0.1, 0.2],\n",
              "                         'max_depth': [3, 5, 7],\n",
              "                         'min_samples_split': [2, 5, 10],\n",
              "                         'n_estimators': [100, 150, 200]},\n",
              "             scoring=make_scorer(<lambda>, greater_is_better=False))"
            ],
            "text/html": [
              "<style>#sk-container-id-3 {color: black;background-color: white;}#sk-container-id-3 pre{padding: 0;}#sk-container-id-3 div.sk-toggleable {background-color: white;}#sk-container-id-3 label.sk-toggleable__label {cursor: pointer;display: block;width: 100%;margin-bottom: 0;padding: 0.3em;box-sizing: border-box;text-align: center;}#sk-container-id-3 label.sk-toggleable__label-arrow:before {content: \"▸\";float: left;margin-right: 0.25em;color: #696969;}#sk-container-id-3 label.sk-toggleable__label-arrow:hover:before {color: black;}#sk-container-id-3 div.sk-estimator:hover label.sk-toggleable__label-arrow:before {color: black;}#sk-container-id-3 div.sk-toggleable__content {max-height: 0;max-width: 0;overflow: hidden;text-align: left;background-color: #f0f8ff;}#sk-container-id-3 div.sk-toggleable__content pre {margin: 0.2em;color: black;border-radius: 0.25em;background-color: #f0f8ff;}#sk-container-id-3 input.sk-toggleable__control:checked~div.sk-toggleable__content {max-height: 200px;max-width: 100%;overflow: auto;}#sk-container-id-3 input.sk-toggleable__control:checked~label.sk-toggleable__label-arrow:before {content: \"▾\";}#sk-container-id-3 div.sk-estimator input.sk-toggleable__control:checked~label.sk-toggleable__label {background-color: #d4ebff;}#sk-container-id-3 div.sk-label input.sk-toggleable__control:checked~label.sk-toggleable__label {background-color: #d4ebff;}#sk-container-id-3 input.sk-hidden--visually {border: 0;clip: rect(1px 1px 1px 1px);clip: rect(1px, 1px, 1px, 1px);height: 1px;margin: -1px;overflow: hidden;padding: 0;position: absolute;width: 1px;}#sk-container-id-3 div.sk-estimator {font-family: monospace;background-color: #f0f8ff;border: 1px dotted black;border-radius: 0.25em;box-sizing: border-box;margin-bottom: 0.5em;}#sk-container-id-3 div.sk-estimator:hover {background-color: #d4ebff;}#sk-container-id-3 div.sk-parallel-item::after {content: \"\";width: 100%;border-bottom: 1px solid gray;flex-grow: 1;}#sk-container-id-3 div.sk-label:hover label.sk-toggleable__label {background-color: #d4ebff;}#sk-container-id-3 div.sk-serial::before {content: \"\";position: absolute;border-left: 1px solid gray;box-sizing: border-box;top: 0;bottom: 0;left: 50%;z-index: 0;}#sk-container-id-3 div.sk-serial {display: flex;flex-direction: column;align-items: center;background-color: white;padding-right: 0.2em;padding-left: 0.2em;position: relative;}#sk-container-id-3 div.sk-item {position: relative;z-index: 1;}#sk-container-id-3 div.sk-parallel {display: flex;align-items: stretch;justify-content: center;background-color: white;position: relative;}#sk-container-id-3 div.sk-item::before, #sk-container-id-3 div.sk-parallel-item::before {content: \"\";position: absolute;border-left: 1px solid gray;box-sizing: border-box;top: 0;bottom: 0;left: 50%;z-index: -1;}#sk-container-id-3 div.sk-parallel-item {display: flex;flex-direction: column;z-index: 1;position: relative;background-color: white;}#sk-container-id-3 div.sk-parallel-item:first-child::after {align-self: flex-end;width: 50%;}#sk-container-id-3 div.sk-parallel-item:last-child::after {align-self: flex-start;width: 50%;}#sk-container-id-3 div.sk-parallel-item:only-child::after {width: 0;}#sk-container-id-3 div.sk-dashed-wrapped {border: 1px dashed gray;margin: 0 0.4em 0.5em 0.4em;box-sizing: border-box;padding-bottom: 0.4em;background-color: white;}#sk-container-id-3 div.sk-label label {font-family: monospace;font-weight: bold;display: inline-block;line-height: 1.2em;}#sk-container-id-3 div.sk-label-container {text-align: center;}#sk-container-id-3 div.sk-container {/* jupyter's `normalize.less` sets `[hidden] { display: none; }` but bootstrap.min.css set `[hidden] { display: none !important; }` so we also need the `!important` here to be able to override the default hidden behavior on the sphinx rendered scikit-learn.org. See: https://github.com/scikit-learn/scikit-learn/issues/21755 */display: inline-block !important;position: relative;}#sk-container-id-3 div.sk-text-repr-fallback {display: none;}</style><div id=\"sk-container-id-3\" class=\"sk-top-container\"><div class=\"sk-text-repr-fallback\"><pre>GridSearchCV(cv=KFold(n_splits=3, random_state=42, shuffle=True),\n",
              "             estimator=GradientBoostingRegressor(),\n",
              "             param_grid={&#x27;learning_rate&#x27;: [0.01, 0.1, 0.2],\n",
              "                         &#x27;max_depth&#x27;: [3, 5, 7],\n",
              "                         &#x27;min_samples_split&#x27;: [2, 5, 10],\n",
              "                         &#x27;n_estimators&#x27;: [100, 150, 200]},\n",
              "             scoring=make_scorer(&lt;lambda&gt;, greater_is_better=False))</pre><b>In a Jupyter environment, please rerun this cell to show the HTML representation or trust the notebook. <br />On GitHub, the HTML representation is unable to render, please try loading this page with nbviewer.org.</b></div><div class=\"sk-container\" hidden><div class=\"sk-item sk-dashed-wrapped\"><div class=\"sk-label-container\"><div class=\"sk-label sk-toggleable\"><input class=\"sk-toggleable__control sk-hidden--visually\" id=\"sk-estimator-id-7\" type=\"checkbox\" ><label for=\"sk-estimator-id-7\" class=\"sk-toggleable__label sk-toggleable__label-arrow\">GridSearchCV</label><div class=\"sk-toggleable__content\"><pre>GridSearchCV(cv=KFold(n_splits=3, random_state=42, shuffle=True),\n",
              "             estimator=GradientBoostingRegressor(),\n",
              "             param_grid={&#x27;learning_rate&#x27;: [0.01, 0.1, 0.2],\n",
              "                         &#x27;max_depth&#x27;: [3, 5, 7],\n",
              "                         &#x27;min_samples_split&#x27;: [2, 5, 10],\n",
              "                         &#x27;n_estimators&#x27;: [100, 150, 200]},\n",
              "             scoring=make_scorer(&lt;lambda&gt;, greater_is_better=False))</pre></div></div></div><div class=\"sk-parallel\"><div class=\"sk-parallel-item\"><div class=\"sk-item\"><div class=\"sk-label-container\"><div class=\"sk-label sk-toggleable\"><input class=\"sk-toggleable__control sk-hidden--visually\" id=\"sk-estimator-id-8\" type=\"checkbox\" ><label for=\"sk-estimator-id-8\" class=\"sk-toggleable__label sk-toggleable__label-arrow\">estimator: GradientBoostingRegressor</label><div class=\"sk-toggleable__content\"><pre>GradientBoostingRegressor()</pre></div></div></div><div class=\"sk-serial\"><div class=\"sk-item\"><div class=\"sk-estimator sk-toggleable\"><input class=\"sk-toggleable__control sk-hidden--visually\" id=\"sk-estimator-id-9\" type=\"checkbox\" ><label for=\"sk-estimator-id-9\" class=\"sk-toggleable__label sk-toggleable__label-arrow\">GradientBoostingRegressor</label><div class=\"sk-toggleable__content\"><pre>GradientBoostingRegressor()</pre></div></div></div></div></div></div></div></div></div></div>"
            ]
          },
          "metadata": {},
          "execution_count": 34
        }
      ],
      "source": [
        "# Hyperparameter tuning\n",
        "param_grid_gb = {\n",
        "    'n_estimators': [150, 200],\n",
        "    'learning_rate': [0.1, 0.2],\n",
        "    'max_depth': [5, 7],\n",
        "    'min_samples_split': [2, 5]\n",
        "}\n",
        "gb_grid_search = GridSearchCV(gb_model, param_grid_gb, scoring=scorer, cv=cv)\n",
        "gb_grid_search.fit(X_train, y_train)"
      ]
    },
    {
      "cell_type": "code",
      "execution_count": 35,
      "metadata": {
        "colab": {
          "base_uri": "https://localhost:8080/"
        },
        "id": "O98MtWSv_l_z",
        "outputId": "44a58a77-b2c8-44e3-a37c-d68665fe28d3"
      },
      "outputs": [
        {
          "output_type": "stream",
          "name": "stdout",
          "text": [
            "Mean RMSE (GradientBoosting with GridSearch): 0.8903359260259416\n"
          ]
        }
      ],
      "source": [
        "#best GradientBoosting model\n",
        "gb_best_model = gb_grid_search.best_estimator_\n",
        "gb_cv_scores = cross_val_score(gb_best_model, X, y, cv=cv, scoring=scorer)\n",
        "gb_rmse_scores = -gb_cv_scores\n",
        "print(f\"Mean RMSE (GradientBoosting with GridSearch): {np.mean(gb_rmse_scores)}\")"
      ]
    },
    {
      "cell_type": "markdown",
      "source": [
        "Testing and Deployment"
      ],
      "metadata": {
        "id": "FG0HN5ioD0hg"
      }
    },
    {
      "cell_type": "code",
      "source": [
        "#new dataset\n",
        "players_22 = pd.read_csv('/content/drive/My Drive/Colab Notebooks/players_22-1.csv')\n"
      ],
      "metadata": {
        "colab": {
          "base_uri": "https://localhost:8080/"
        },
        "id": "9hYNNVe3D5N-",
        "outputId": "b6ef27ad-d062-427a-8efd-f95655a3ed03"
      },
      "execution_count": 36,
      "outputs": [
        {
          "output_type": "stream",
          "name": "stderr",
          "text": [
            "<ipython-input-36-2958434074b8>:2: DtypeWarning: Columns (25,108) have mixed types. Specify dtype option on import or set low_memory=False.\n",
            "  players_22 = pd.read_csv('/content/drive/My Drive/Colab Notebooks/players_22-1.csv')\n"
          ]
        }
      ]
    },
    {
      "cell_type": "code",
      "source": [
        "#Dropping Columns with More Than 30% Null Values\n",
        "threshold = 0.3\n",
        "total_rows = len(players_22)\n",
        "\n",
        "players_22 = players_22.loc[:, players_22.isnull().mean() < threshold]\n",
        "print(f\"Data shape after dropping columns with >{threshold*100}% null values: {players_22.shape}\")"
      ],
      "metadata": {
        "colab": {
          "base_uri": "https://localhost:8080/"
        },
        "id": "yhPfi3wSEFuV",
        "outputId": "929970aa-1502-45bd-af24-001b65959b55"
      },
      "execution_count": 37,
      "outputs": [
        {
          "output_type": "stream",
          "name": "stdout",
          "text": [
            "Data shape after dropping columns with >30.0% null values: (19239, 102)\n"
          ]
        }
      ]
    },
    {
      "cell_type": "code",
      "source": [
        "# List of columns to drop\n",
        "useless_columns22 = [\n",
        "    'sofifa_id', 'player_url', 'long_name', 'dob', 'short_name', 'body_type', 'real_face',\n",
        "    'player_face_url', 'club_logo_url', 'nation_flag_url', 'club_flag_url'\n",
        "]\n",
        "players_22 = players_22.drop(useless_columns22, axis=1)"
      ],
      "metadata": {
        "id": "y_CMfO0OERad"
      },
      "execution_count": 38,
      "outputs": []
    },
    {
      "cell_type": "code",
      "source": [
        "#numeric and categorical columns\n",
        "numeric_data1 = players_22.select_dtypes(include=['int64', 'float64'])\n",
        "categorical_data1 = players_22.select_dtypes(exclude=['int64', 'float64'])"
      ],
      "metadata": {
        "id": "DZk2sRZiEWVD"
      },
      "execution_count": 39,
      "outputs": []
    },
    {
      "cell_type": "code",
      "source": [
        "numeric_data1.info()\n",
        "categorical_data1.info()"
      ],
      "metadata": {
        "colab": {
          "base_uri": "https://localhost:8080/"
        },
        "id": "Z60ijrR7Ee-2",
        "outputId": "4874f9b3-cb48-4be8-cef1-33b79a61dc7c"
      },
      "execution_count": 40,
      "outputs": [
        {
          "output_type": "stream",
          "name": "stdout",
          "text": [
            "<class 'pandas.core.frame.DataFrame'>\n",
            "RangeIndex: 19239 entries, 0 to 19238\n",
            "Data columns (total 56 columns):\n",
            " #   Column                       Non-Null Count  Dtype  \n",
            "---  ------                       --------------  -----  \n",
            " 0   overall                      19239 non-null  int64  \n",
            " 1   potential                    19239 non-null  int64  \n",
            " 2   value_eur                    19165 non-null  float64\n",
            " 3   wage_eur                     19178 non-null  float64\n",
            " 4   age                          19239 non-null  int64  \n",
            " 5   height_cm                    19239 non-null  int64  \n",
            " 6   weight_kg                    19239 non-null  int64  \n",
            " 7   club_team_id                 19178 non-null  float64\n",
            " 8   league_level                 19178 non-null  float64\n",
            " 9   club_jersey_number           19178 non-null  float64\n",
            " 10  club_contract_valid_until    19178 non-null  float64\n",
            " 11  nationality_id               19239 non-null  int64  \n",
            " 12  weak_foot                    19239 non-null  int64  \n",
            " 13  skill_moves                  19239 non-null  int64  \n",
            " 14  international_reputation     19239 non-null  int64  \n",
            " 15  release_clause_eur           18063 non-null  float64\n",
            " 16  pace                         17107 non-null  float64\n",
            " 17  shooting                     17107 non-null  float64\n",
            " 18  passing                      17107 non-null  float64\n",
            " 19  dribbling                    17107 non-null  float64\n",
            " 20  defending                    17107 non-null  float64\n",
            " 21  physic                       17107 non-null  float64\n",
            " 22  attacking_crossing           19239 non-null  int64  \n",
            " 23  attacking_finishing          19239 non-null  int64  \n",
            " 24  attacking_heading_accuracy   19239 non-null  int64  \n",
            " 25  attacking_short_passing      19239 non-null  int64  \n",
            " 26  attacking_volleys            19239 non-null  int64  \n",
            " 27  skill_dribbling              19239 non-null  int64  \n",
            " 28  skill_curve                  19239 non-null  int64  \n",
            " 29  skill_fk_accuracy            19239 non-null  int64  \n",
            " 30  skill_long_passing           19239 non-null  int64  \n",
            " 31  skill_ball_control           19239 non-null  int64  \n",
            " 32  movement_acceleration        19239 non-null  int64  \n",
            " 33  movement_sprint_speed        19239 non-null  int64  \n",
            " 34  movement_agility             19239 non-null  int64  \n",
            " 35  movement_reactions           19239 non-null  int64  \n",
            " 36  movement_balance             19239 non-null  int64  \n",
            " 37  power_shot_power             19239 non-null  int64  \n",
            " 38  power_jumping                19239 non-null  int64  \n",
            " 39  power_stamina                19239 non-null  int64  \n",
            " 40  power_strength               19239 non-null  int64  \n",
            " 41  power_long_shots             19239 non-null  int64  \n",
            " 42  mentality_aggression         19239 non-null  int64  \n",
            " 43  mentality_interceptions      19239 non-null  int64  \n",
            " 44  mentality_positioning        19239 non-null  int64  \n",
            " 45  mentality_vision             19239 non-null  int64  \n",
            " 46  mentality_penalties          19239 non-null  int64  \n",
            " 47  mentality_composure          19239 non-null  int64  \n",
            " 48  defending_marking_awareness  19239 non-null  int64  \n",
            " 49  defending_standing_tackle    19239 non-null  int64  \n",
            " 50  defending_sliding_tackle     19239 non-null  int64  \n",
            " 51  goalkeeping_diving           19239 non-null  int64  \n",
            " 52  goalkeeping_handling         19239 non-null  int64  \n",
            " 53  goalkeeping_kicking          19239 non-null  int64  \n",
            " 54  goalkeeping_positioning      19239 non-null  int64  \n",
            " 55  goalkeeping_reflexes         19239 non-null  int64  \n",
            "dtypes: float64(13), int64(43)\n",
            "memory usage: 8.2 MB\n",
            "<class 'pandas.core.frame.DataFrame'>\n",
            "RangeIndex: 19239 entries, 0 to 19238\n",
            "Data columns (total 35 columns):\n",
            " #   Column            Non-Null Count  Dtype \n",
            "---  ------            --------------  ----- \n",
            " 0   player_positions  19239 non-null  object\n",
            " 1   club_name         19178 non-null  object\n",
            " 2   league_name       19178 non-null  object\n",
            " 3   club_position     19178 non-null  object\n",
            " 4   club_joined       18076 non-null  object\n",
            " 5   nationality_name  19239 non-null  object\n",
            " 6   preferred_foot    19239 non-null  object\n",
            " 7   work_rate         19239 non-null  object\n",
            " 8   ls                19239 non-null  object\n",
            " 9   st                19239 non-null  object\n",
            " 10  rs                19239 non-null  object\n",
            " 11  lw                19239 non-null  object\n",
            " 12  lf                19239 non-null  object\n",
            " 13  cf                19239 non-null  object\n",
            " 14  rf                19239 non-null  object\n",
            " 15  rw                19239 non-null  object\n",
            " 16  lam               19239 non-null  object\n",
            " 17  cam               19239 non-null  object\n",
            " 18  ram               19239 non-null  object\n",
            " 19  lm                19239 non-null  object\n",
            " 20  lcm               19239 non-null  object\n",
            " 21  cm                19239 non-null  object\n",
            " 22  rcm               19239 non-null  object\n",
            " 23  rm                19239 non-null  object\n",
            " 24  lwb               19239 non-null  object\n",
            " 25  ldm               19239 non-null  object\n",
            " 26  cdm               19239 non-null  object\n",
            " 27  rdm               19239 non-null  object\n",
            " 28  rwb               19239 non-null  object\n",
            " 29  lb                19239 non-null  object\n",
            " 30  lcb               19239 non-null  object\n",
            " 31  cb                19239 non-null  object\n",
            " 32  rcb               19239 non-null  object\n",
            " 33  rb                19239 non-null  object\n",
            " 34  gk                19239 non-null  object\n",
            "dtypes: object(35)\n",
            "memory usage: 5.1+ MB\n"
          ]
        }
      ]
    },
    {
      "cell_type": "code",
      "source": [
        "#Imputing Missing Values\n",
        "numeric_data1.fillna(numeric_data1.mean(), inplace=True)"
      ],
      "metadata": {
        "id": "3khwqLWBEsF-"
      },
      "execution_count": 41,
      "outputs": []
    },
    {
      "cell_type": "code",
      "source": [
        "for column in categorical_data1:\n",
        "    categorical_data1[column].fillna(categorical_data1[column].mode()[0], inplace=True)"
      ],
      "metadata": {
        "id": "v-w4IG7VExcY"
      },
      "execution_count": 42,
      "outputs": []
    },
    {
      "cell_type": "code",
      "source": [
        "#remaining null values\n",
        "print(numeric_data1.isnull().sum())\n",
        "print(categorical_data1.isnull().sum())"
      ],
      "metadata": {
        "colab": {
          "base_uri": "https://localhost:8080/"
        },
        "id": "_G8gNBRGE8Ej",
        "outputId": "935d13e5-0cad-4d73-8f49-3428bd9b5a14"
      },
      "execution_count": 43,
      "outputs": [
        {
          "output_type": "stream",
          "name": "stdout",
          "text": [
            "overall                        0\n",
            "potential                      0\n",
            "value_eur                      0\n",
            "wage_eur                       0\n",
            "age                            0\n",
            "height_cm                      0\n",
            "weight_kg                      0\n",
            "club_team_id                   0\n",
            "league_level                   0\n",
            "club_jersey_number             0\n",
            "club_contract_valid_until      0\n",
            "nationality_id                 0\n",
            "weak_foot                      0\n",
            "skill_moves                    0\n",
            "international_reputation       0\n",
            "release_clause_eur             0\n",
            "pace                           0\n",
            "shooting                       0\n",
            "passing                        0\n",
            "dribbling                      0\n",
            "defending                      0\n",
            "physic                         0\n",
            "attacking_crossing             0\n",
            "attacking_finishing            0\n",
            "attacking_heading_accuracy     0\n",
            "attacking_short_passing        0\n",
            "attacking_volleys              0\n",
            "skill_dribbling                0\n",
            "skill_curve                    0\n",
            "skill_fk_accuracy              0\n",
            "skill_long_passing             0\n",
            "skill_ball_control             0\n",
            "movement_acceleration          0\n",
            "movement_sprint_speed          0\n",
            "movement_agility               0\n",
            "movement_reactions             0\n",
            "movement_balance               0\n",
            "power_shot_power               0\n",
            "power_jumping                  0\n",
            "power_stamina                  0\n",
            "power_strength                 0\n",
            "power_long_shots               0\n",
            "mentality_aggression           0\n",
            "mentality_interceptions        0\n",
            "mentality_positioning          0\n",
            "mentality_vision               0\n",
            "mentality_penalties            0\n",
            "mentality_composure            0\n",
            "defending_marking_awareness    0\n",
            "defending_standing_tackle      0\n",
            "defending_sliding_tackle       0\n",
            "goalkeeping_diving             0\n",
            "goalkeeping_handling           0\n",
            "goalkeeping_kicking            0\n",
            "goalkeeping_positioning        0\n",
            "goalkeeping_reflexes           0\n",
            "dtype: int64\n",
            "player_positions    0\n",
            "club_name           0\n",
            "league_name         0\n",
            "club_position       0\n",
            "club_joined         0\n",
            "nationality_name    0\n",
            "preferred_foot      0\n",
            "work_rate           0\n",
            "ls                  0\n",
            "st                  0\n",
            "rs                  0\n",
            "lw                  0\n",
            "lf                  0\n",
            "cf                  0\n",
            "rf                  0\n",
            "rw                  0\n",
            "lam                 0\n",
            "cam                 0\n",
            "ram                 0\n",
            "lm                  0\n",
            "lcm                 0\n",
            "cm                  0\n",
            "rcm                 0\n",
            "rm                  0\n",
            "lwb                 0\n",
            "ldm                 0\n",
            "cdm                 0\n",
            "rdm                 0\n",
            "rwb                 0\n",
            "lb                  0\n",
            "lcb                 0\n",
            "cb                  0\n",
            "rcb                 0\n",
            "rb                  0\n",
            "gk                  0\n",
            "dtype: int64\n"
          ]
        }
      ]
    },
    {
      "cell_type": "code",
      "source": [
        "#Encoding\n",
        "label_encoder = LabelEncoder()\n",
        "for column in categorical_data1:\n",
        "    categorical_data1[column] = label_encoder.fit_transform(categorical_data1[column])"
      ],
      "metadata": {
        "id": "qjQTuekdFJwI"
      },
      "execution_count": 44,
      "outputs": []
    },
    {
      "cell_type": "code",
      "source": [
        "#Combining Numeric and Categorical Data into one dataframe\n",
        "new_players_22 = pd.concat([numeric_data1, categorical_data1], axis=1)\n",
        "print(\"Cleaned data shape:\", new_players_22.shape)"
      ],
      "metadata": {
        "colab": {
          "base_uri": "https://localhost:8080/"
        },
        "id": "ot3Iw53FFWSS",
        "outputId": "cde97956-645e-4051-c1ce-faeebc59dd21"
      },
      "execution_count": 45,
      "outputs": [
        {
          "output_type": "stream",
          "name": "stdout",
          "text": [
            "Cleaned data shape: (19239, 91)\n"
          ]
        }
      ]
    },
    {
      "cell_type": "code",
      "source": [
        "#Data Preparation for Prediction\n",
        "selected_features = [\n",
        "    'movement_reactions', 'potential', 'passing', 'wage_eur', 'value_eur',\n",
        "    'dribbling', 'attacking_short_passing', 'international_reputation', 'skill_long_passing',\n",
        "    'physic', 'age', 'skill_ball_control', 'shooting', 'skill_curve','weak_foot','skill_moves','skill_dribbling','attacking_finishing'\n",
        "]\n",
        "scaler = StandardScaler()\n",
        "X = new_players_22[selected_features]\n",
        "X_scaled = scaler.fit_transform(X)\n"
      ],
      "metadata": {
        "id": "gerO-y1lFoba"
      },
      "execution_count": 53,
      "outputs": []
    },
    {
      "cell_type": "code",
      "source": [
        "# Define the directory to save the models\n",
        "model_directory = '/content/drive/My Drive/Colab Notebooks/'"
      ],
      "metadata": {
        "id": "5OZUWmTMiIGL"
      },
      "execution_count": 81,
      "outputs": []
    },
    {
      "cell_type": "code",
      "source": [
        "# Save the models\n",
        "filename_rf = model_directory + 'random_forest_model.sav'\n",
        "joblib.dump(best_model, filename_rf)\n",
        "\n",
        "filename_xgb = model_directory + 'xgboost_model.sav'\n",
        "joblib.dump(xgb_best_model, filename_xgb)\n",
        "\n",
        "filename_gb = model_directory + 'gradient_boosting_model.sav'\n",
        "joblib.dump(gb_best_model, filename_gb)"
      ],
      "metadata": {
        "colab": {
          "base_uri": "https://localhost:8080/"
        },
        "id": "6vO_NGrsiL4t",
        "outputId": "0d0fad2b-b324-494b-8c59-7ca098944e2e"
      },
      "execution_count": 82,
      "outputs": [
        {
          "output_type": "execute_result",
          "data": {
            "text/plain": [
              "['/content/drive/My Drive/Colab Notebooks/gradient_boosting_model.sav']"
            ]
          },
          "metadata": {},
          "execution_count": 82
        }
      ]
    },
    {
      "cell_type": "code",
      "source": [
        "# Make predictions\n",
        "rf_predictions = best_model.predict(X_scaled)\n",
        "xgb_predictions = xgb_best_model.predict(X_scaled)\n",
        "gb_predictions = gb_best_model.predict(X_scaled)"
      ],
      "metadata": {
        "id": "ebn4bhcdiQ7g"
      },
      "execution_count": 83,
      "outputs": []
    },
    {
      "cell_type": "code",
      "source": [
        "actual_data = new_players_22['overall']\n",
        "\n",
        "rf_rmse_new = np.sqrt(mean_squared_error(actual_data, rf_predictions))\n",
        "xgb_rmse_new = np.sqrt(mean_squared_error(actual_data, xgb_predictions))\n",
        "gb_rmse_new = np.sqrt(mean_squared_error(actual_data, gb_predictions))\n",
        "\n",
        "print(\"Random Forest RMSE on new data:\", rf_rmse_new)\n",
        "print(\"XGBoost RMSE on new data:\", xgb_rmse_new)\n",
        "print(\"Gradient Boosting RMSE on new data:\", gb_rmse_new)"
      ],
      "metadata": {
        "colab": {
          "base_uri": "https://localhost:8080/"
        },
        "id": "-SZzKxgsd4Mo",
        "outputId": "a82d79ca-3a11-4438-9219-1ebb195f254f"
      },
      "execution_count": 84,
      "outputs": [
        {
          "output_type": "stream",
          "name": "stdout",
          "text": [
            "Random Forest RMSE on new data: 1.2878936536104464\n",
            "XGBoost RMSE on new data: 1.1600579040595962\n",
            "Gradient Boosting RMSE on new data: 1.0782143299956066\n"
          ]
        }
      ]
    }
  ],
  "metadata": {
    "kernelspec": {
      "display_name": "base",
      "language": "python",
      "name": "python3"
    },
    "language_info": {
      "name": "python",
      "version": "3.11.7"
    },
    "colab": {
      "provenance": []
    }
  },
  "nbformat": 4,
  "nbformat_minor": 0
}